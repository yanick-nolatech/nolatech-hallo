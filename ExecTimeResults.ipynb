{
 "cells": [
  {
   "cell_type": "code",
   "execution_count": 10,
   "id": "8ab21210",
   "metadata": {
    "ExecuteTime": {
     "end_time": "2024-09-18T12:36:01.339666Z",
     "start_time": "2024-09-18T12:36:00.162995Z"
    }
   },
   "outputs": [],
   "source": [
    "import os\n",
    "import glob\n",
    "import pandas as pd\n",
    "import seaborn as sns\n",
    "from matplotlib import pyplot as plt\n"
   ]
  },
  {
   "cell_type": "code",
   "execution_count": 3,
   "id": "093883e1",
   "metadata": {
    "ExecuteTime": {
     "end_time": "2024-09-18T12:34:40.406745Z",
     "start_time": "2024-09-18T12:34:40.402434Z"
    }
   },
   "outputs": [],
   "source": [
    "exec_time_dir = os.path.join('data', 'exec_time')"
   ]
  },
  {
   "cell_type": "code",
   "execution_count": 4,
   "id": "c5df9d0c",
   "metadata": {
    "ExecuteTime": {
     "end_time": "2024-09-18T12:34:45.666736Z",
     "start_time": "2024-09-18T12:34:45.662660Z"
    }
   },
   "outputs": [],
   "source": [
    "assert os.path.exists(exec_time_dir)"
   ]
  },
  {
   "cell_type": "code",
   "execution_count": 5,
   "id": "402faea0",
   "metadata": {
    "ExecuteTime": {
     "end_time": "2024-09-18T12:35:01.460318Z",
     "start_time": "2024-09-18T12:35:01.454363Z"
    }
   },
   "outputs": [],
   "source": [
    "exec_time_files = glob.glob(os.path.join(exec_time_dir, '*.csv'))"
   ]
  },
  {
   "cell_type": "code",
   "execution_count": 6,
   "id": "c6996d2a",
   "metadata": {
    "ExecuteTime": {
     "end_time": "2024-09-18T12:35:04.402005Z",
     "start_time": "2024-09-18T12:35:04.392890Z"
    }
   },
   "outputs": [
    {
     "data": {
      "text/plain": [
       "['data/exec_time/aws_16gb_2024-09-17T22:50:30.815380.csv']"
      ]
     },
     "execution_count": 6,
     "metadata": {},
     "output_type": "execute_result"
    }
   ],
   "source": [
    "exec_time_files"
   ]
  },
  {
   "cell_type": "code",
   "execution_count": 19,
   "id": "4d9922a5",
   "metadata": {
    "ExecuteTime": {
     "end_time": "2024-09-18T12:38:04.768960Z",
     "start_time": "2024-09-18T12:38:04.764947Z"
    }
   },
   "outputs": [],
   "source": [
    "import wave\n",
    "import contextlib\n",
    "def get_audio_duration(fname) -> float:\n",
    "    with contextlib.closing(wave.open(fname,'r')) as f:\n",
    "        frames = f.getnframes()\n",
    "        rate = f.getframerate()\n",
    "        duration = frames / float(rate)\n",
    "    return duration"
   ]
  },
  {
   "cell_type": "code",
   "execution_count": 20,
   "id": "7b7f0493",
   "metadata": {
    "ExecuteTime": {
     "end_time": "2024-09-18T12:38:29.190380Z",
     "start_time": "2024-09-18T12:38:29.182961Z"
    }
   },
   "outputs": [],
   "source": [
    "driving_files = glob.glob('data/driving/*.wav')"
   ]
  },
  {
   "cell_type": "code",
   "execution_count": 24,
   "id": "eee1ab44",
   "metadata": {
    "ExecuteTime": {
     "end_time": "2024-09-18T12:38:57.974107Z",
     "start_time": "2024-09-18T12:38:57.967415Z"
    }
   },
   "outputs": [],
   "source": [
    "driving_duration_mapper = {\n",
    "    os.path.splitext(os.path.basename(f))[0]: get_audio_duration(f)\n",
    "    for f in driving_files\n",
    "}"
   ]
  },
  {
   "cell_type": "code",
   "execution_count": 25,
   "id": "1ea43780",
   "metadata": {
    "ExecuteTime": {
     "end_time": "2024-09-18T12:38:58.197707Z",
     "start_time": "2024-09-18T12:38:58.189036Z"
    }
   },
   "outputs": [
    {
     "data": {
      "text/plain": [
       "{'maduro_rvc_5millones_v2': 3.92,\n",
       " 'girl_talk_emotion': 4.608,\n",
       " 'man_run': 15.04,\n",
       " 'maduro_audio_tts': 7.54,\n",
       " 'milei_test': 9.98,\n",
       " 'torrijos_test': 12.46,\n",
       " 'maduro_rvc_5millones': 4.94,\n",
       " 'spanish_test': 8.5}"
      ]
     },
     "execution_count": 25,
     "metadata": {},
     "output_type": "execute_result"
    }
   ],
   "source": [
    "driving_duration_mapper"
   ]
  },
  {
   "cell_type": "code",
   "execution_count": 26,
   "id": "61ece5b0",
   "metadata": {
    "ExecuteTime": {
     "end_time": "2024-09-18T12:39:03.092021Z",
     "start_time": "2024-09-18T12:39:03.085668Z"
    }
   },
   "outputs": [],
   "source": [
    "data = pd.concat([pd.read_csv(f) for f in exec_time_files])"
   ]
  },
  {
   "cell_type": "code",
   "execution_count": 28,
   "id": "4910d827",
   "metadata": {
    "ExecuteTime": {
     "end_time": "2024-09-18T12:39:25.845958Z",
     "start_time": "2024-09-18T12:39:25.838435Z"
    }
   },
   "outputs": [],
   "source": [
    "data['driving_duration'] = data['driving'].map(driving_duration_mapper)"
   ]
  },
  {
   "cell_type": "code",
   "execution_count": 29,
   "id": "fec46560",
   "metadata": {
    "ExecuteTime": {
     "end_time": "2024-09-18T12:39:27.594710Z",
     "start_time": "2024-09-18T12:39:27.574617Z"
    }
   },
   "outputs": [
    {
     "data": {
      "text/html": [
       "<div>\n",
       "<style scoped>\n",
       "    .dataframe tbody tr th:only-of-type {\n",
       "        vertical-align: middle;\n",
       "    }\n",
       "\n",
       "    .dataframe tbody tr th {\n",
       "        vertical-align: top;\n",
       "    }\n",
       "\n",
       "    .dataframe thead th {\n",
       "        text-align: right;\n",
       "    }\n",
       "</style>\n",
       "<table border=\"1\" class=\"dataframe\">\n",
       "  <thead>\n",
       "    <tr style=\"text-align: right;\">\n",
       "      <th></th>\n",
       "      <th>count</th>\n",
       "      <th>mean</th>\n",
       "      <th>std</th>\n",
       "      <th>min</th>\n",
       "      <th>25%</th>\n",
       "      <th>50%</th>\n",
       "      <th>75%</th>\n",
       "      <th>max</th>\n",
       "    </tr>\n",
       "    <tr>\n",
       "      <th>source</th>\n",
       "      <th></th>\n",
       "      <th></th>\n",
       "      <th></th>\n",
       "      <th></th>\n",
       "      <th></th>\n",
       "      <th></th>\n",
       "      <th></th>\n",
       "      <th></th>\n",
       "    </tr>\n",
       "  </thead>\n",
       "  <tbody>\n",
       "    <tr>\n",
       "      <th>00082-2</th>\n",
       "      <td>8.0</td>\n",
       "      <td>937.897610</td>\n",
       "      <td>405.804700</td>\n",
       "      <td>500.163928</td>\n",
       "      <td>566.069823</td>\n",
       "      <td>897.633788</td>\n",
       "      <td>1158.948504</td>\n",
       "      <td>1620.139946</td>\n",
       "    </tr>\n",
       "    <tr>\n",
       "      <th>SquareMaduroMic1768</th>\n",
       "      <td>8.0</td>\n",
       "      <td>935.887851</td>\n",
       "      <td>404.883559</td>\n",
       "      <td>500.079927</td>\n",
       "      <td>565.235566</td>\n",
       "      <td>894.387479</td>\n",
       "      <td>1156.680200</td>\n",
       "      <td>1621.224255</td>\n",
       "    </tr>\n",
       "  </tbody>\n",
       "</table>\n",
       "</div>"
      ],
      "text/plain": [
       "                     count        mean         std         min         25%  \\\n",
       "source                                                                       \n",
       "00082-2                8.0  937.897610  405.804700  500.163928  566.069823   \n",
       "SquareMaduroMic1768    8.0  935.887851  404.883559  500.079927  565.235566   \n",
       "\n",
       "                            50%          75%          max  \n",
       "source                                                     \n",
       "00082-2              897.633788  1158.948504  1620.139946  \n",
       "SquareMaduroMic1768  894.387479  1156.680200  1621.224255  "
      ]
     },
     "execution_count": 29,
     "metadata": {},
     "output_type": "execute_result"
    }
   ],
   "source": [
    "data.groupby('source')['time'].describe()"
   ]
  },
  {
   "cell_type": "code",
   "execution_count": 30,
   "id": "a97a5062",
   "metadata": {
    "ExecuteTime": {
     "end_time": "2024-09-18T12:39:27.856809Z",
     "start_time": "2024-09-18T12:39:27.830201Z"
    }
   },
   "outputs": [
    {
     "data": {
      "text/html": [
       "<div>\n",
       "<style scoped>\n",
       "    .dataframe tbody tr th:only-of-type {\n",
       "        vertical-align: middle;\n",
       "    }\n",
       "\n",
       "    .dataframe tbody tr th {\n",
       "        vertical-align: top;\n",
       "    }\n",
       "\n",
       "    .dataframe thead th {\n",
       "        text-align: right;\n",
       "    }\n",
       "</style>\n",
       "<table border=\"1\" class=\"dataframe\">\n",
       "  <thead>\n",
       "    <tr style=\"text-align: right;\">\n",
       "      <th></th>\n",
       "      <th>count</th>\n",
       "      <th>mean</th>\n",
       "      <th>std</th>\n",
       "      <th>min</th>\n",
       "      <th>25%</th>\n",
       "      <th>50%</th>\n",
       "      <th>75%</th>\n",
       "      <th>max</th>\n",
       "    </tr>\n",
       "    <tr>\n",
       "      <th>driving</th>\n",
       "      <th></th>\n",
       "      <th></th>\n",
       "      <th></th>\n",
       "      <th></th>\n",
       "      <th></th>\n",
       "      <th></th>\n",
       "      <th></th>\n",
       "      <th></th>\n",
       "    </tr>\n",
       "  </thead>\n",
       "  <tbody>\n",
       "    <tr>\n",
       "      <th>girl_talk_emotion</th>\n",
       "      <td>2.0</td>\n",
       "      <td>565.200236</td>\n",
       "      <td>0.322243</td>\n",
       "      <td>564.972376</td>\n",
       "      <td>565.086306</td>\n",
       "      <td>565.200236</td>\n",
       "      <td>565.314166</td>\n",
       "      <td>565.428097</td>\n",
       "    </tr>\n",
       "    <tr>\n",
       "      <th>maduro_audio_tts</th>\n",
       "      <td>2.0</td>\n",
       "      <td>829.017127</td>\n",
       "      <td>0.828807</td>\n",
       "      <td>828.431071</td>\n",
       "      <td>828.724099</td>\n",
       "      <td>829.017127</td>\n",
       "      <td>829.310154</td>\n",
       "      <td>829.603182</td>\n",
       "    </tr>\n",
       "    <tr>\n",
       "      <th>maduro_rvc_5millones</th>\n",
       "      <td>2.0</td>\n",
       "      <td>565.803514</td>\n",
       "      <td>0.679131</td>\n",
       "      <td>565.323296</td>\n",
       "      <td>565.563405</td>\n",
       "      <td>565.803514</td>\n",
       "      <td>566.043623</td>\n",
       "      <td>566.283732</td>\n",
       "    </tr>\n",
       "    <tr>\n",
       "      <th>maduro_rvc_5millones_v2</th>\n",
       "      <td>2.0</td>\n",
       "      <td>500.121927</td>\n",
       "      <td>0.059398</td>\n",
       "      <td>500.079927</td>\n",
       "      <td>500.100927</td>\n",
       "      <td>500.121927</td>\n",
       "      <td>500.142928</td>\n",
       "      <td>500.163928</td>\n",
       "    </tr>\n",
       "    <tr>\n",
       "      <th>man_run</th>\n",
       "      <td>2.0</td>\n",
       "      <td>1620.682101</td>\n",
       "      <td>0.766722</td>\n",
       "      <td>1620.139946</td>\n",
       "      <td>1620.411023</td>\n",
       "      <td>1620.682101</td>\n",
       "      <td>1620.953178</td>\n",
       "      <td>1621.224255</td>\n",
       "    </tr>\n",
       "    <tr>\n",
       "      <th>milei_test</th>\n",
       "      <td>2.0</td>\n",
       "      <td>1089.972306</td>\n",
       "      <td>0.034077</td>\n",
       "      <td>1089.948210</td>\n",
       "      <td>1089.960258</td>\n",
       "      <td>1089.972306</td>\n",
       "      <td>1089.984354</td>\n",
       "      <td>1089.996402</td>\n",
       "    </tr>\n",
       "    <tr>\n",
       "      <th>spanish_test</th>\n",
       "      <td>2.0</td>\n",
       "      <td>963.004141</td>\n",
       "      <td>3.762167</td>\n",
       "      <td>960.343887</td>\n",
       "      <td>961.674014</td>\n",
       "      <td>963.004141</td>\n",
       "      <td>964.334268</td>\n",
       "      <td>965.664395</td>\n",
       "    </tr>\n",
       "    <tr>\n",
       "      <th>torrijos_test</th>\n",
       "      <td>2.0</td>\n",
       "      <td>1361.340491</td>\n",
       "      <td>6.517964</td>\n",
       "      <td>1356.731595</td>\n",
       "      <td>1359.036043</td>\n",
       "      <td>1361.340491</td>\n",
       "      <td>1363.644940</td>\n",
       "      <td>1365.949388</td>\n",
       "    </tr>\n",
       "  </tbody>\n",
       "</table>\n",
       "</div>"
      ],
      "text/plain": [
       "                         count         mean       std          min  \\\n",
       "driving                                                              \n",
       "girl_talk_emotion          2.0   565.200236  0.322243   564.972376   \n",
       "maduro_audio_tts           2.0   829.017127  0.828807   828.431071   \n",
       "maduro_rvc_5millones       2.0   565.803514  0.679131   565.323296   \n",
       "maduro_rvc_5millones_v2    2.0   500.121927  0.059398   500.079927   \n",
       "man_run                    2.0  1620.682101  0.766722  1620.139946   \n",
       "milei_test                 2.0  1089.972306  0.034077  1089.948210   \n",
       "spanish_test               2.0   963.004141  3.762167   960.343887   \n",
       "torrijos_test              2.0  1361.340491  6.517964  1356.731595   \n",
       "\n",
       "                                 25%          50%          75%          max  \n",
       "driving                                                                      \n",
       "girl_talk_emotion         565.086306   565.200236   565.314166   565.428097  \n",
       "maduro_audio_tts          828.724099   829.017127   829.310154   829.603182  \n",
       "maduro_rvc_5millones      565.563405   565.803514   566.043623   566.283732  \n",
       "maduro_rvc_5millones_v2   500.100927   500.121927   500.142928   500.163928  \n",
       "man_run                  1620.411023  1620.682101  1620.953178  1621.224255  \n",
       "milei_test               1089.960258  1089.972306  1089.984354  1089.996402  \n",
       "spanish_test              961.674014   963.004141   964.334268   965.664395  \n",
       "torrijos_test            1359.036043  1361.340491  1363.644940  1365.949388  "
      ]
     },
     "execution_count": 30,
     "metadata": {},
     "output_type": "execute_result"
    }
   ],
   "source": [
    "data.groupby('driving')['time'].describe()"
   ]
  },
  {
   "cell_type": "code",
   "execution_count": 31,
   "id": "27b7842f",
   "metadata": {
    "ExecuteTime": {
     "end_time": "2024-09-18T12:39:29.910309Z",
     "start_time": "2024-09-18T12:39:29.738843Z"
    }
   },
   "outputs": [
    {
     "data": {
      "text/plain": [
       "<Axes: xlabel='time', ylabel='Count'>"
      ]
     },
     "execution_count": 31,
     "metadata": {},
     "output_type": "execute_result"
    },
    {
     "data": {
      "image/png": "[encoded data removed]",
      "text/plain": [
       "<Figure size 640x480 with 1 Axes>"
      ]
     },
     "metadata": {},
     "output_type": "display_data"
    }
   ],
   "source": [
    "sns.histplot(data['time'])"
   ]
  },
  {
   "cell_type": "code",
   "execution_count": 32,
   "id": "a31eccb0",
   "metadata": {
    "ExecuteTime": {
     "end_time": "2024-09-18T12:39:51.656418Z",
     "start_time": "2024-09-18T12:39:51.232228Z"
    }
   },
   "outputs": [
    {
     "data": {
      "text/plain": [
       "<Axes: xlabel='driving_duration', ylabel='time'>"
      ]
     },
     "execution_count": 32,
     "metadata": {},
     "output_type": "execute_result"
    },
    {
     "data": {
      "image/png": "[encoded data removed]",
      "text/plain": [
       "<Figure size 640x480 with 1 Axes>"
      ]
     },
     "metadata": {},
     "output_type": "display_data"
    }
   ],
   "source": [
    "sns.regplot(x='driving_duration', y='time', data=data)"
   ]
  },
  {
   "cell_type": "code",
   "execution_count": 34,
   "id": "b1fa5c26",
   "metadata": {
    "ExecuteTime": {
     "end_time": "2024-09-18T12:41:43.200733Z",
     "start_time": "2024-09-18T12:41:43.196940Z"
    }
   },
   "outputs": [],
   "source": [
    "from scipy.stats import linregress"
   ]
  },
  {
   "cell_type": "code",
   "execution_count": 35,
   "id": "e976929b",
   "metadata": {
    "ExecuteTime": {
     "end_time": "2024-09-18T12:42:01.230714Z",
     "start_time": "2024-09-18T12:42:01.222335Z"
    }
   },
   "outputs": [],
   "source": [
    "linear_model = linregress(data['driving_duration'], data['time'])"
   ]
  },
  {
   "cell_type": "code",
   "execution_count": 37,
   "id": "ad99ee3f",
   "metadata": {
    "ExecuteTime": {
     "end_time": "2024-09-18T12:42:21.615747Z",
     "start_time": "2024-09-18T12:42:21.609392Z"
    }
   },
   "outputs": [
    {
     "data": {
      "text/plain": [
       "102.0641788898546"
      ]
     },
     "execution_count": 37,
     "metadata": {},
     "output_type": "execute_result"
    }
   ],
   "source": [
    "linear_model.slope"
   ]
  },
  {
   "cell_type": "code",
   "execution_count": 43,
   "id": "7930c70e",
   "metadata": {
    "ExecuteTime": {
     "end_time": "2024-09-18T12:43:30.664534Z",
     "start_time": "2024-09-18T12:43:30.661935Z"
    }
   },
   "outputs": [],
   "source": [
    "from datetime import timedelta, datetime"
   ]
  },
  {
   "cell_type": "code",
   "execution_count": 47,
   "id": "19226b4d",
   "metadata": {
    "ExecuteTime": {
     "end_time": "2024-09-18T12:45:30.894287Z",
     "start_time": "2024-09-18T12:45:30.888783Z"
    }
   },
   "outputs": [
    {
     "data": {
      "text/plain": [
       "datetime.time(0, 3, 4, 322507)"
      ]
     },
     "execution_count": 47,
     "metadata": {},
     "output_type": "execute_result"
    }
   ],
   "source": [
    "(datetime.min + timedelta(seconds=linear_model.slope + linear_model.intercept)).time()"
   ]
  },
  {
   "cell_type": "code",
   "execution_count": 68,
   "id": "d2aa478e",
   "metadata": {
    "ExecuteTime": {
     "end_time": "2024-09-18T12:49:32.442575Z",
     "start_time": "2024-09-18T12:49:32.437768Z"
    }
   },
   "outputs": [],
   "source": [
    "import numpy as np"
   ]
  },
  {
   "cell_type": "raw",
   "id": "6d4e3040",
   "metadata": {},
   "source": []
  },
  {
   "cell_type": "code",
   "execution_count": 69,
   "id": "807ae5c8",
   "metadata": {
    "ExecuteTime": {
     "end_time": "2024-09-18T12:49:32.963798Z",
     "start_time": "2024-09-18T12:49:32.735802Z"
    }
   },
   "outputs": [
    {
     "data": {
      "text/plain": [
       "Text(0, 0.5, 'execution duration (min)')"
      ]
     },
     "execution_count": 69,
     "metadata": {},
     "output_type": "execute_result"
    },
    {
     "data": {
      "image/png": "[encoded data removed]",
      "text/plain": [
       "<Figure size 640x480 with 1 Axes>"
      ]
     },
     "metadata": {},
     "output_type": "display_data"
    }
   ],
   "source": [
    "full_duration_axis = np.linspace(0, data['driving_duration'].max() + 1)\n",
    "estimated_time = full_duration_axis * linear_model.slope + linear_model.intercept\n",
    "f, ax = plt.subplots()\n",
    "ax.scatter(data['driving_duration'], data['time'] / 60, label='measured')\n",
    "ax.plot(full_duration_axis, estimated_time / 60, color='red', label='estimated')\n",
    "ax.legend()\n",
    "\n",
    "ax.set_xlabel('audio duration (s)')\n",
    "ax.set_ylabel('execution duration (min)')\n"
   ]
  },
  {
   "cell_type": "code",
   "execution_count": null,
   "id": "5f90f138",
   "metadata": {},
   "outputs": [],
   "source": []
  }
 ],
 "metadata": {
  "kernelspec": {
   "display_name": "Python 3 (ipykernel)",
   "language": "python",
   "name": "python3"
  },
  "language_info": {
   "codemirror_mode": {
    "name": "ipython",
    "version": 3
   },
   "file_extension": ".py",
   "mimetype": "text/x-python",
   "name": "python",
   "nbconvert_exporter": "python",
   "pygments_lexer": "ipython3",
   "version": "3.10.14"
  },
  "toc": {
   "base_numbering": 1,
   "nav_menu": {},
   "number_sections": true,
   "sideBar": true,
   "skip_h1_title": false,
   "title_cell": "Table of Contents",
   "title_sidebar": "Contents",
   "toc_cell": false,
   "toc_position": {},
   "toc_section_display": true,
   "toc_window_display": false
  }
 },
 "nbformat": 4,
 "nbformat_minor": 5
}
